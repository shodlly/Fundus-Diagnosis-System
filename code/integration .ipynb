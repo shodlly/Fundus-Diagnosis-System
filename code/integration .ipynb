{
  "nbformat": 4,
  "nbformat_minor": 0,
  "metadata": {
    "colab": {
      "provenance": []
    },
    "kernelspec": {
      "name": "python3",
      "display_name": "Python 3"
    },
    "language_info": {
      "name": "python"
    }
  },
  "cells": [
    {
      "cell_type": "code",
      "source": [
        "from tensorflow.keras.models import load_model\n",
        "\n",
        "# Load the .keras model\n",
        "model = load_model(\"/content/CFP_vgg19_model.keras\")\n",
        "# Save the model in .h5 format\n",
        "model.save(\"/content/CFP_vgg19_model222.h5\")\n"
      ],
      "metadata": {
        "colab": {
          "base_uri": "https://localhost:8080/"
        },
        "id": "ZDFk9Zg0EkX4",
        "outputId": "75d8d5a0-430d-48bb-c4d6-6bc8e939a73c"
      },
      "execution_count": 2,
      "outputs": [
        {
          "output_type": "stream",
          "name": "stderr",
          "text": [
            "WARNING:absl:You are saving your model as an HDF5 file via `model.save()` or `keras.saving.save_model(model)`. This file format is considered legacy. We recommend using instead the native Keras format, e.g. `model.save('my_model.keras')` or `keras.saving.save_model(model, 'my_model.keras')`. \n"
          ]
        }
      ]
    },
    {
      "cell_type": "code",
      "source": [
        "!pip install h5py\n",
        "import h5py\n",
        "\n",
        "try:\n",
        "  with h5py.File('/content/OCT_vgg19_model.h5', 'r') as f:\n",
        "    print(f.keys())\n",
        "except OSError as e:\n",
        "  print(f\"Error opening file: {e}\")"
      ],
      "metadata": {
        "colab": {
          "base_uri": "https://localhost:8080/"
        },
        "id": "0za0NEJfGZTG",
        "outputId": "dc021509-bc3c-4048-ac17-68734572c78e"
      },
      "execution_count": 7,
      "outputs": [
        {
          "output_type": "stream",
          "name": "stdout",
          "text": [
            "Requirement already satisfied: h5py in /usr/local/lib/python3.10/dist-packages (3.12.1)\n",
            "Requirement already satisfied: numpy>=1.19.3 in /usr/local/lib/python3.10/dist-packages (from h5py) (1.26.4)\n",
            "<KeysViewHDF5 ['model_weights', 'optimizer_weights']>\n"
          ]
        }
      ]
    },
    {
      "cell_type": "code",
      "source": [
        "import tensorflow as tf\n",
        "import numpy as np\n",
        "from tensorflow.keras.applications.vgg19 import preprocess_input\n",
        "from tensorflow.keras.preprocessing import image\n",
        "\n",
        "\n",
        "classification_model = tf.keras.models.load_model('/content/oct_cfp_vgg19_model.h5')\n",
        "\n",
        "\n",
        "cfp_model = tf.keras.models.load_model('/content/CFP_vgg19_model222.h5')\n",
        "oct_model = tf.keras.models.load_model('/content/OCT_vgg19_model.h5')\n",
        "\n",
        "# Class names for the classification model\n",
        "class_names = [\"CFP\", \"OCT\"]\n",
        "\n",
        "\n",
        "cfp_class_names = ['Normal', 'cataract', 'diabetic_retinopathy', 'glaucoma']\n",
        "oct_class_names = ['CNV', 'DME', 'DRUSEN', 'NORMAL']\n",
        "\n",
        "def classify_image(image_path):\n",
        "    \"\"\"Classify the image as CFP or OCT.\"\"\"\n",
        "    img = image.load_img(image_path, target_size=(224, 224))\n",
        "    img_array = image.img_to_array(img)\n",
        "    img_array = np.expand_dims(img_array, axis=0)\n",
        "    img_array = preprocess_input(img_array)\n",
        "\n",
        "    predictions = classification_model.predict(img_array)\n",
        "    predicted_class = np.argmax(predictions, axis=1)[0]\n",
        "    class_name = class_names[predicted_class]\n",
        "\n",
        "    return class_name, img_array\n",
        "\n",
        "def predict_disease(image_array, model, class_names):\n",
        "    \"\"\"Use the specific model (CFP or OCT) to predict diseases.\"\"\"\n",
        "    predictions = model.predict(image_array)\n",
        "    percentages = predictions[0] * 100\n",
        "    predicted_class = np.argmax(predictions)\n",
        "\n",
        "\n",
        "    print(\"\\nPercentages per class:\")\n",
        "    for i, class_name in enumerate(class_names):\n",
        "        print(f\"  {class_name}: {percentages[i]:.2f}%\")\n",
        "\n",
        "\n",
        "    return class_names[predicted_class]\n",
        "\n",
        "\n",
        "image_path = input(\"Enter the path of the image: \")\n",
        "\n",
        "# Classify the image as CFP or OCT\n",
        "predicted_class, img_array = classify_image(image_path)\n",
        "print(f\"Classification model predicts this image as: {predicted_class}\")\n",
        "\n",
        "# Choose the appropriate model based on the classification\n",
        "if predicted_class == \"CFP\":\n",
        "    disease_model = cfp_model\n",
        "    disease_class_names = cfp_class_names\n",
        "else:\n",
        "    disease_model = oct_model\n",
        "    disease_class_names = oct_class_names\n",
        "\n",
        "# Predict disease using the appropriate model\n",
        "predicted_disease = predict_disease(img_array, disease_model, disease_class_names)\n",
        "print(f\"\\nPredicted Class: {predicted_disease}\")\n",
        "\n"
      ],
      "metadata": {
        "colab": {
          "base_uri": "https://localhost:8080/"
        },
        "id": "u_XXk5D_RpcB",
        "outputId": "e167238f-4689-4579-e6a4-dfd7e547baa1"
      },
      "execution_count": 9,
      "outputs": [
        {
          "output_type": "stream",
          "name": "stderr",
          "text": [
            "WARNING:absl:Compiled the loaded model, but the compiled metrics have yet to be built. `model.compile_metrics` will be empty until you train or evaluate the model.\n",
            "WARNING:absl:Compiled the loaded model, but the compiled metrics have yet to be built. `model.compile_metrics` will be empty until you train or evaluate the model.\n",
            "WARNING:absl:Compiled the loaded model, but the compiled metrics have yet to be built. `model.compile_metrics` will be empty until you train or evaluate the model.\n"
          ]
        },
        {
          "output_type": "stream",
          "name": "stdout",
          "text": [
            "Enter the path of the image: /content/diabetic_retinopathy (97).jpg\n",
            "\u001b[1m1/1\u001b[0m \u001b[32m━━━━━━━━━━━━━━━━━━━━\u001b[0m\u001b[37m\u001b[0m \u001b[1m1s\u001b[0m 1s/step\n",
            "Classification model predicts this image as: CFP\n",
            "\u001b[1m1/1\u001b[0m \u001b[32m━━━━━━━━━━━━━━━━━━━━\u001b[0m\u001b[37m\u001b[0m \u001b[1m1s\u001b[0m 935ms/step\n",
            "\n",
            "Percentages per class:\n",
            "  Normal: 0.00%\n",
            "  cataract: 0.00%\n",
            "  diabetic_retinopathy: 100.00%\n",
            "  glaucoma: 0.00%\n",
            "\n",
            "Predicted Class: diabetic_retinopathy\n"
          ]
        }
      ]
    }
  ]
}